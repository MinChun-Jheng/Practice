{
 "cells": [
  {
   "cell_type": "markdown",
   "metadata": {},
   "source": [
    "Basic:  \n",
    "* Reading Image and Video\n",
    "* Image Transformations\n",
    "* Drawing Shapes\n",
    "* Putting Text  \n",
    "\n",
    "Advanced:\n",
    "* Color Spaces\n",
    "* BITWISE operations\n",
    "* Masking\n",
    "* Histogram Computation\n",
    "* Edge Detection\n",
    "\n",
    "Faces:  \n",
    "* Face Detection\n",
    "* Face REcognition\n",
    "* Deep computer Vision"
   ]
  },
  {
   "cell_type": "code",
   "execution_count": 1,
   "metadata": {},
   "outputs": [],
   "source": [
    "# import opencv\n",
    "import cv2 as cv"
   ]
  },
  {
   "cell_type": "code",
   "execution_count": 3,
   "metadata": {},
   "outputs": [
    {
     "data": {
      "text/plain": [
       "-1"
      ]
     },
     "execution_count": 3,
     "metadata": {},
     "output_type": "execute_result"
    }
   ],
   "source": [
    "# read image\n",
    "img = cv.imread(\"Resources/Photos/cat.jpg\")\n",
    "#img = cv.imread(\"Resources/Photos/cat_large.jpg\")\n",
    "cv.imshow(\"Cat\", img)\n",
    "\n",
    "cv.waitKey(0)\n",
    "# express in new window"
   ]
  },
  {
   "cell_type": "code",
   "execution_count": 3,
   "metadata": {},
   "outputs": [],
   "source": [
    "# reading video\n",
    "capture = cv.VideoCapture(\"Resources/Videos/dog.mp4\")\n",
    "\n",
    "# reading video frame by frame\n",
    "while True:\n",
    "    isTrue, frame = capture.read()\n",
    "    try:\n",
    "        cv.imshow('Video', frame)\n",
    "        if cv.waitKey(20) & 0xFF==ord('q'):\n",
    "            break\n",
    "    except:\n",
    "        break\n",
    "        \n",
    "capture.release()\n",
    "cv.destroyAllWindows()"
   ]
  },
  {
   "cell_type": "code",
   "execution_count": 2,
   "metadata": {},
   "outputs": [
    {
     "ename": "AttributeError",
     "evalue": "'NoneType' object has no attribute 'shape'",
     "output_type": "error",
     "traceback": [
      "\u001b[1;31m---------------------------------------------------------------------------\u001b[0m",
      "\u001b[1;31mAttributeError\u001b[0m                            Traceback (most recent call last)",
      "\u001b[1;32m<ipython-input-2-56461e055da4>\u001b[0m in \u001b[0;36m<module>\u001b[1;34m\u001b[0m\n\u001b[0;32m     16\u001b[0m     \u001b[0misTrue\u001b[0m\u001b[1;33m,\u001b[0m \u001b[0mframe\u001b[0m \u001b[1;33m=\u001b[0m \u001b[0mcapture\u001b[0m\u001b[1;33m.\u001b[0m\u001b[0mread\u001b[0m\u001b[1;33m(\u001b[0m\u001b[1;33m)\u001b[0m\u001b[1;33m\u001b[0m\u001b[1;33m\u001b[0m\u001b[0m\n\u001b[0;32m     17\u001b[0m \u001b[1;33m\u001b[0m\u001b[0m\n\u001b[1;32m---> 18\u001b[1;33m     \u001b[0mframe_resized\u001b[0m \u001b[1;33m=\u001b[0m \u001b[0mrescaleFrame\u001b[0m\u001b[1;33m(\u001b[0m\u001b[0mframe\u001b[0m\u001b[1;33m)\u001b[0m\u001b[1;33m\u001b[0m\u001b[1;33m\u001b[0m\u001b[0m\n\u001b[0m\u001b[0;32m     19\u001b[0m \u001b[1;33m\u001b[0m\u001b[0m\n\u001b[0;32m     20\u001b[0m     \u001b[1;31m#cv.imshow('Video', frame)\u001b[0m\u001b[1;33m\u001b[0m\u001b[1;33m\u001b[0m\u001b[1;33m\u001b[0m\u001b[0m\n",
      "\u001b[1;32m<ipython-input-2-56461e055da4>\u001b[0m in \u001b[0;36mrescaleFrame\u001b[1;34m(frame, scale)\u001b[0m\n\u001b[0;32m      3\u001b[0m \u001b[1;32mdef\u001b[0m \u001b[0mrescaleFrame\u001b[0m\u001b[1;33m(\u001b[0m\u001b[0mframe\u001b[0m\u001b[1;33m,\u001b[0m \u001b[0mscale\u001b[0m\u001b[1;33m=\u001b[0m\u001b[1;36m0.5\u001b[0m\u001b[1;33m)\u001b[0m\u001b[1;33m:\u001b[0m\u001b[1;33m\u001b[0m\u001b[1;33m\u001b[0m\u001b[0m\n\u001b[0;32m      4\u001b[0m     \u001b[1;31m# image, video, live video\u001b[0m\u001b[1;33m\u001b[0m\u001b[1;33m\u001b[0m\u001b[1;33m\u001b[0m\u001b[0m\n\u001b[1;32m----> 5\u001b[1;33m     \u001b[0mwidth\u001b[0m \u001b[1;33m=\u001b[0m \u001b[0mint\u001b[0m\u001b[1;33m(\u001b[0m\u001b[0mframe\u001b[0m\u001b[1;33m.\u001b[0m\u001b[0mshape\u001b[0m\u001b[1;33m[\u001b[0m\u001b[1;36m1\u001b[0m\u001b[1;33m]\u001b[0m \u001b[1;33m*\u001b[0m \u001b[0mscale\u001b[0m\u001b[1;33m)\u001b[0m\u001b[1;33m\u001b[0m\u001b[1;33m\u001b[0m\u001b[0m\n\u001b[0m\u001b[0;32m      6\u001b[0m     \u001b[0mheight\u001b[0m \u001b[1;33m=\u001b[0m \u001b[0mint\u001b[0m\u001b[1;33m(\u001b[0m\u001b[0mframe\u001b[0m\u001b[1;33m.\u001b[0m\u001b[0mshape\u001b[0m\u001b[1;33m[\u001b[0m\u001b[1;36m0\u001b[0m\u001b[1;33m]\u001b[0m \u001b[1;33m*\u001b[0m \u001b[0mscale\u001b[0m\u001b[1;33m)\u001b[0m\u001b[1;33m\u001b[0m\u001b[1;33m\u001b[0m\u001b[0m\n\u001b[0;32m      7\u001b[0m \u001b[1;33m\u001b[0m\u001b[0m\n",
      "\u001b[1;31mAttributeError\u001b[0m: 'NoneType' object has no attribute 'shape'"
     ]
    }
   ],
   "source": [
    "# Resizing and Rescaking Frames\n",
    "\n",
    "def rescaleFrame(frame, scale=0.5):\n",
    "    # image, video, live video\n",
    "    width = int(frame.shape[1] * scale)\n",
    "    height = int(frame.shape[0] * scale)\n",
    "    \n",
    "    dimensions = (width, height)\n",
    "    \n",
    "    return cv.resize(frame, dimensions, interpolation=cv.INTER_AREA)\n",
    "\n",
    "capture = cv.VideoCapture(\"Resources/Videos/dog.mp4\")\n",
    "\n",
    "# reading video frame by frame\n",
    "while True:\n",
    "    isTrue, frame = capture.read()\n",
    "    \n",
    "    frame_resized = rescaleFrame(frame)\n",
    "    \n",
    "    #cv.imshow('Video', frame)\n",
    "    cv.imshow('Video Resized', frame_resized)\n",
    "    \n",
    "    if cv.waitKey(20) & 0xFF==ord('d'):\n",
    "        break\n",
    "        \n",
    "capture.release()\n",
    "cv.destroyAllWindows()\n",
    "# need to resize the frame"
   ]
  },
  {
   "cell_type": "code",
   "execution_count": 4,
   "metadata": {},
   "outputs": [],
   "source": [
    "def changeRes(width, height):\n",
    "    # only live video\n",
    "    capture.set(3, width)\n",
    "    capture.set(4, height)"
   ]
  },
  {
   "cell_type": "code",
   "execution_count": 1,
   "metadata": {},
   "outputs": [],
   "source": [
    "import cv2 as cv\n",
    "import numpy as np"
   ]
  },
  {
   "cell_type": "code",
   "execution_count": 8,
   "metadata": {},
   "outputs": [
    {
     "data": {
      "text/plain": [
       "-1"
      ]
     },
     "execution_count": 8,
     "metadata": {},
     "output_type": "execute_result"
    }
   ],
   "source": [
    "# Drawing Shapes & Putting Text\n",
    "\n",
    "blank = np.zeros((500, 500, 3), dtype='uint8')\n",
    "\n",
    "img = cv.imread('Resources/Photos/cat.jpg')\n",
    "\n",
    "cv.imshow('Blank', blank)\n",
    "\n",
    "# 1. paint the Image\n",
    "blank[200:300, 300:400] = 0, 255, 0\n",
    "\n",
    "#cv.imshow('Another', blank)\n",
    "\n",
    "# 2. Draw a Rectangle\n",
    "cv.rectangle(blank, (0,0), (250,250), (0,0,255), thickness=1)\n",
    "#cv.imshow('Another', blank)\n",
    "\n",
    "# 3. Draw a circle\n",
    "cv.circle(blank, (blank.shape[1]//2, blank.shape[0]//2), 40, (255,0,0), thickness=-1)\n",
    "#cv.imshow('Another', blank)\n",
    "\n",
    "# 4. Draw a line\n",
    "cv.line(blank, (0,0), (blank.shape[1]//2, blank.shape[0]//2), (255, 255, 255), thickness=3)\n",
    "#cv.imshow('Another', blank)\n",
    "\n",
    "# 5. Write text\n",
    "cv.putText(blank, 'Hello', (300, 300), cv.FONT_HERSHEY_TRIPLEX, 1.0, (255,255,255), 2)\n",
    "cv.imshow('Another', blank)\n",
    "\n",
    "cv.waitKey(0)"
   ]
  },
  {
   "cell_type": "code",
   "execution_count": 3,
   "metadata": {},
   "outputs": [
    {
     "data": {
      "text/plain": [
       "-1"
      ]
     },
     "execution_count": 3,
     "metadata": {},
     "output_type": "execute_result"
    }
   ],
   "source": [
    "# Essential function\n",
    "import cv2 as cv\n",
    "\n",
    "img = cv.imread('Resources/Photos/cat.jpg')\n",
    "cv.imshow('Cat', img)\n",
    "\n",
    "# 1. converting to grayscale\n",
    "#gray = cv.cvtColor(img, cv.COLOR_BGR2GRAY)\n",
    "#cv.imshow('Gray', gray)\n",
    "\n",
    "# 2 Blur 模糊\n",
    "# blur = cv.GaussianBlur(img, (3,3), cv.BORDER_DEFAULT)\n",
    "# cv.imshow('Blur', blur)\n",
    "\n",
    "# 3 Edge Cascade\n",
    "canny = cv.Canny(img, 125, 175)\n",
    "# cv.imshow(\"Canny Edge\", canny)\n",
    "\n",
    "# 4 Dilating the image\n",
    "dilated = cv.dilate(canny, (3,3), iterations=1)\n",
    "#cv.imshow(\"Dilated\", dilated)\n",
    "\n",
    "# 5 Eroding\n",
    "eroded = cv.erode(dilated, (3,3), iterations=1)\n",
    "cv.imshow(\"Erode\", eroded)\n",
    "\n",
    "# Resize\n",
    "resized = cv.resize(img, (500,500))\n",
    "cv.imshow('Resized', resized)\n",
    "\n",
    "# Cropping\n",
    "cropped = img[50:200, 200:400]\n",
    "cv.imshow('Cropped', cropped)\n",
    "\n",
    "cv.waitKey(0)"
   ]
  },
  {
   "cell_type": "code",
   "execution_count": 1,
   "metadata": {},
   "outputs": [],
   "source": [
    "import cv2 as cv\n",
    "import numpy as np"
   ]
  },
  {
   "cell_type": "code",
   "execution_count": 3,
   "metadata": {},
   "outputs": [
    {
     "data": {
      "text/plain": [
       "-1"
      ]
     },
     "execution_count": 3,
     "metadata": {},
     "output_type": "execute_result"
    }
   ],
   "source": [
    "# Image Transformations\n",
    "img = cv.imread('Resources/Photos/cat.jpg')\n",
    "cv.imshow('Cat', img)\n",
    "\n",
    "# Translation\n",
    "def translate(img, x, y):\n",
    "    transMat = np.float32([[1, 0 , x], [0, 1, y]])\n",
    "    dimensions = (img.shape[1], img.shape[0])\n",
    "    return cv.warpAffine(img, transMat, dimensions)\n",
    "    # x --> Right\n",
    "    # y --> Down\n",
    "    \n",
    "translated = translate(img, 100, 100)\n",
    "#cv.imshow('Translated', translated)\n",
    "\n",
    "# Rotating\n",
    "def rotate(img, angle, rotPoint=None):\n",
    "    (height, width) = img.shape[:2]\n",
    "    \n",
    "    if rotPoint is None:\n",
    "        rotPoint = (width//2, height//2)\n",
    "        \n",
    "    rotMat = cv.getRotationMatrix2D(rotPoint, angle, 1.0)\n",
    "    dimensions = (height, width)\n",
    "    return cv.warpAffine(img, rotMat, dimensions)\n",
    "\n",
    "rotated = rotate(img, 45)\n",
    "cv.imshow('Rotated', rotated)\n",
    "\n",
    "# Flip\n",
    "flip = cv.flip(img, 0) # 0: vertical, 1 horizontal\n",
    "cv.imshow('Flip', flip)\n",
    "\n",
    "cv.waitKey(0)"
   ]
  },
  {
   "cell_type": "code",
   "execution_count": 12,
   "metadata": {},
   "outputs": [],
   "source": [
    "import cv2 as cv\n",
    "import numpy as np\n",
    "from matplotlib import pyplot as plt"
   ]
  },
  {
   "cell_type": "code",
   "execution_count": 13,
   "metadata": {},
   "outputs": [
    {
     "name": "stdout",
     "output_type": "stream",
     "text": [
      "2794 contour(s) found!\n",
      "After Blur, 380 contour(s) found!\n",
      "thresh, 839 contour(s) found!\n"
     ]
    },
    {
     "data": {
      "image/png": "[encoded data removed]",
      "text/plain": [
       "<Figure size 432x288 with 1 Axes>"
      ]
     },
     "metadata": {
      "needs_background": "light"
     },
     "output_type": "display_data"
    }
   ],
   "source": [
    "# Contour detecion\n",
    "img = cv.imread('Resources/Photos/cats.jpg')\n",
    "\n",
    "gray = cv.cvtColor(img, cv.COLOR_BGR2GRAY)\n",
    "#cv.imshow('Gray', gray)\n",
    "\n",
    "canny = cv.Canny(img, 125, 175)\n",
    "#cv.imshow('Canny Edge', canny)\n",
    "\n",
    "contours, hierarchies = cv.findContours(canny, cv.RETR_LIST, cv.CHAIN_APPROX_SIMPLE)\n",
    "\n",
    "print(f'{len(contours)} contour(s) found!')\n",
    "\n",
    "blur = cv.GaussianBlur(gray, (5,5), cv.BORDER_DEFAULT)\n",
    "#cv.imshow('Blur', blur)\n",
    "\n",
    "canny2 = cv.Canny(blur, 125, 175)\n",
    "#cv.imshow('Canny2', canny2)\n",
    "contours, hierarchies = cv.findContours(canny2, cv.RETR_LIST, cv.CHAIN_APPROX_SIMPLE)\n",
    "print(f'After Blur, {len(contours)} contour(s) found!')\n",
    "\n",
    "\n",
    "# using threshold\n",
    "ret, thresh = cv.threshold(gray, 125, 255, cv.THRESH_BINARY)\n",
    "contours, hierarchies = cv.findContours(thresh, cv.RETR_LIST, cv.CHAIN_APPROX_SIMPLE)\n",
    "print(f'thresh, {len(contours)} contour(s) found!')\n",
    "\n",
    "# draw the countour to the blank image\n",
    "blank = np.zeros(img.shape, dtype='uint8')\n",
    "cv.drawContours(blank, contours, -1, (0,0,255), 2)\n",
    "cv.imshow('Draw contours', blank)\n",
    "\n",
    "cv.waitKey(0)\n",
    "\n",
    "plt.imshow(blank)\n",
    "plt.show()"
   ]
  },
  {
   "cell_type": "code",
   "execution_count": null,
   "metadata": {},
   "outputs": [],
   "source": []
  }
 ],
 "metadata": {
  "kernelspec": {
   "display_name": "Python 3",
   "language": "python",
   "name": "python3"
  },
  "language_info": {
   "codemirror_mode": {
    "name": "ipython",
    "version": 3
   },
   "file_extension": ".py",
   "mimetype": "text/x-python",
   "name": "python",
   "nbconvert_exporter": "python",
   "pygments_lexer": "ipython3",
   "version": "3.7.3"
  }
 },
 "nbformat": 4,
 "nbformat_minor": 2
}
